{
 "cells": [
  {
   "cell_type": "markdown",
   "metadata": {},
   "source": [
    "# Ongoing work\n",
    "\n",
    "You might have noticed that Heat 1.4.0 hasn't been released yet. In this notebook, we will go through some of the new features that are available in our custom kernel but not in the latest stable release v1.3.1. "
   ]
  },
  {
   "cell_type": "markdown",
   "metadata": {},
   "source": [
    "### Merged but not yet released\n",
    "\n"
   ]
  }
 ],
 "metadata": {
  "language_info": {
   "name": "python"
  }
 },
 "nbformat": 4,
 "nbformat_minor": 2
}
