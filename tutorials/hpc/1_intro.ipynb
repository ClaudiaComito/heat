{
 "cells": [
  {
   "cell_type": "markdown",
   "metadata": {},
   "source": [
    "# Heat Tutorial\n",
    "---"
   ]
  },
  {
   "cell_type": "markdown",
   "metadata": {},
   "source": [
    "The original version of this tutorial was inspired by the [CS228 tutorial](https://github.com/kuleshov/cs228-material/blob/master/tutorials/python/cs228-python-tutorial.ipynb) by Volodomyr Kuleshov and Isaac Caswell.\n",
    "\n",
    "For this interactive HPC adaptation, we have heavily referenced the [HPC Python](https://gitlab.jsc.fz-juelich.de/sdlbio-courses/hpc-python) course and the [jupyter-jsc](https://github.com/FZJ-JSC/jupyter-jsc-notebooks) repository. Many thanks Jan Meinke, Jens Henrik Goebbert, Tim Kreuzer, Alice Gorsch @ JSC for help setting this up."
   ]
  },
  {
   "cell_type": "markdown",
   "metadata": {},
   "source": [
    "## Introduction\n",
    "---\n",
    "\n",
    "**Table of Contents**\n",
    "(copilot generated, needs to be updated)\n",
    "1. [Introduction](#Introduction)\n",
    "2. [Getting Started](#Getting-Started)\n",
    "3. [Heat Basics](#Heat-Basics)\n",
    "4. [Heat Arrays](#Heat-Arrays)\n",
    "5. [Heat Operations](#Heat-Operations)\n",
    "\n",
    "\n",
    "<div style=\"float: right; padding-right: 2em; padding-top: 2em;\">\n",
    "    <img src=\"https://raw.githubusercontent.com/helmholtz-analytics/heat/master/doc/images/logo.png\"></img>\n",
    "</div>\n",
    "\n",
    "\n",
    "This tutorial is designed to run on [Jupyter Notebook servers at the  Jülich Supercomputing Centre](https://jupyter-jsc.fz-juelich.de/). \n",
    "\n",
    "deRSE24 participants will have [received instructions](https://pad.gwdg.de/s2GbnPwcTWeSK-OFKs4nAw#) on how to request compute resources associated with the training. \n",
    "\n",
    "\n",
    "Log in to the [jupyter-jsc](https://jupyter-jsc.fz-juelich.de/) hub and start a new terminal. In the terminal, copy the tutorials from the project directory to your home directory:\n",
    "\n",
    "```bash\n",
    "cd\n",
    "cp -r /p/project/training2404/tutorials* .\n",
    "```\n",
    "\n",
    "\n",
    "In general, you can install Heat easily on your laptop via `pip` or `conda`:\n",
    "```bash\n",
    "pip install heat\n",
    "``` \n",
    "or \n",
    "```bash\n",
    "conda install -c conda-forge heat\n",
    "```\n",
    "with the main dependencies being:\n",
    "\n",
    "- an MPI distribution and `mpi4py`;\n",
    "- a `torch` installation suited to your hardware accelerators (if any). \n",
    "\n",
    "Installation on an HPC system is also straightforward, but heavily tuned to the available hardware. **In this short tutorial, we will skip the installation part, and use a dedicated kernel that we have created in advance.** \n",
    "\n",
    "Before we load our kernel, we need to load the cluster modules needed for the kernel to work. In the terminal, type:\n",
    "\n",
    "```bash\n",
    "source /p/project/training2404/heat_derse24.sh\n",
    "```\n",
    "\n",
    "When asked to select a Python kernel, choose  `heat-1.4.0-dev`. \n",
    "\n",
    "We will be running the tutorial on the GPU partition of the [JURECA](https://apps.fz-juelich.de/jsc/hps/jureca/configuration.html) cluster, with the following hardware:\n",
    "\n",
    "- 2× AMD EPYC 7742, 2× 64 cores, 2.25 GHz\n",
    "- 4× NVIDIA A100 GPU, 4× 40 GB HBM2e\n",
    "\n",
    "Before we can test if Heat can be imported, we need to initialize the `ipcluster`. In the terminal, type:\n",
    "\n",
    "```bash\n",
    "ipcontroller  &\n",
    "srun -n 4 -c 12 --ntasks-per-node 4 --time 00:90:00   -A training2404 -p dc_gpu ipengine start\n",
    "```\n",
    "On your terminal, you should see something like this:\n",
    "\n",
    "```bash\n",
    "FILL OUT\n",
    "```\n",
    "\n",
    "Reload the kernel. You now have access to 4 MPI processes that can be used by Heat either on CPU, or on the 4 GPUs available on each node.\n",
    "\n",
    "\n"
   ]
  },
  {
   "cell_type": "markdown",
   "metadata": {},
   "source": [
    "## Basics: what is Heat for?\n",
    "---\n",
    "\n",
    "[**deRSE24 NOTE**:  do attend Fabian Hoppe's talk [TODAY at 16:30](https://events.hifis.net/event/994/contributions/7940/) for more details, benchmarks, and an overview of the parallel Python ecosystem.] \n",
    "\n",
    "\n",
    "Straight from our [GitHub repository](https://github.com/helmholtz-analytics/heat):\n",
    "\n",
    "Heat builds on [PyTorch](https://pytorch.org/) and [mpi4py](https://mpi4py.readthedocs.io) to provide high-performance computing infrastructure for memory-intensive applications within the NumPy/SciPy ecosystem.\n",
    "\n",
    "\n",
    "With Heat you can:\n",
    "- port existing NumPy/SciPy code from single-CPU to multi-node clusters with minimal coding effort;\n",
    "- exploit the entire, cumulative RAM of your many nodes for memory-intensive operations and algorithms;\n",
    "- run your NumPy/SciPy code on GPUs (CUDA, ROCm, coming up: Apple MPS).\n"
   ]
  },
  {
   "cell_type": "markdown",
   "metadata": {},
   "source": [
    "Why?\n",
    "\n",
    "- significant outperformance with respect to task-parallel frameworks;\n",
    "- analysis of massive datasets without breaking them up in artificially independent chunks;\n",
    "- ease of use: script and test on your laptop, port straight to HPC cluster; \n",
    "- PyTorch-based: GPU support beyond the CUDA ecosystem."
   ]
  },
  {
   "cell_type": "markdown",
   "metadata": {},
   "source": [
    "To be able to start working with Heat on an HPC cluster, we first need to check the health of the available processes. We will use the `ipyparallel` client for this."
   ]
  },
  {
   "cell_type": "code",
   "execution_count": null,
   "metadata": {
    "tags": []
   },
   "outputs": [],
   "source": [
    "from ipyparallel import Client\n",
    "rc = Client(profile=\"default\")"
   ]
  },
  {
   "cell_type": "markdown",
   "metadata": {},
   "source": [
    "We have started the `ipcontroller` and `ipengine` processes with 4 processes. We can now check if the processes are available."
   ]
  },
  {
   "cell_type": "code",
   "execution_count": 3,
   "metadata": {
    "tags": []
   },
   "outputs": [
    {
     "data": {
      "text/plain": [
       "[0, 1, 2, 3]"
      ]
     },
     "execution_count": 3,
     "metadata": {},
     "output_type": "execute_result"
    }
   ],
   "source": [
    "rc.ids"
   ]
  },
  {
   "cell_type": "markdown",
   "metadata": {},
   "source": [
    "TODO: Here explain %%px magic"
   ]
  },
  {
   "cell_type": "code",
   "execution_count": 5,
   "metadata": {
    "tags": []
   },
   "outputs": [
    {
     "data": {
      "text/plain": [
       "[stderr:3] /p/scratch/training2404/jupyter/kernels/heat1.3.1/lib/python3.10/site-packages/tqdm/auto.py:21: TqdmWarning: IProgress not found. Please update jupyter and ipywidgets. See https://ipywidgets.readthedocs.io/en/stable/user_install.html\n",
       "  from .autonotebook import tqdm as notebook_tqdm\n"
      ]
     },
     "metadata": {},
     "output_type": "display_data"
    },
    {
     "data": {
      "text/plain": [
       "[stderr:2] /p/scratch/training2404/jupyter/kernels/heat1.3.1/lib/python3.10/site-packages/tqdm/auto.py:21: TqdmWarning: IProgress not found. Please update jupyter and ipywidgets. See https://ipywidgets.readthedocs.io/en/stable/user_install.html\n",
       "  from .autonotebook import tqdm as notebook_tqdm\n"
      ]
     },
     "metadata": {},
     "output_type": "display_data"
    },
    {
     "data": {
      "text/plain": [
       "[stderr:0] /p/scratch/training2404/jupyter/kernels/heat1.3.1/lib/python3.10/site-packages/tqdm/auto.py:21: TqdmWarning: IProgress not found. Please update jupyter and ipywidgets. See https://ipywidgets.readthedocs.io/en/stable/user_install.html\n",
       "  from .autonotebook import tqdm as notebook_tqdm\n"
      ]
     },
     "metadata": {},
     "output_type": "display_data"
    },
    {
     "data": {
      "text/plain": [
       "[stderr:1] /p/scratch/training2404/jupyter/kernels/heat1.3.1/lib/python3.10/site-packages/tqdm/auto.py:21: TqdmWarning: IProgress not found. Please update jupyter and ipywidgets. See https://ipywidgets.readthedocs.io/en/stable/user_install.html\n",
       "  from .autonotebook import tqdm as notebook_tqdm\n"
      ]
     },
     "metadata": {},
     "output_type": "display_data"
    },
    {
     "name": "stdout",
     "output_type": "stream",
     "text": [
      "%px: 100%|██████████| 4/4 [00:07<00:00,  1.96s/tasks]\n"
     ]
    }
   ],
   "source": [
    "%px import heat as ht"
   ]
  }
 ],
 "metadata": {
  "kernelspec": {
   "display_name": "heat1.3.1",
   "language": "python",
   "name": "heat1.3.1"
  },
  "language_info": {
   "codemirror_mode": {
    "name": "ipython",
    "version": 3
   },
   "file_extension": ".py",
   "mimetype": "text/x-python",
   "name": "python",
   "nbconvert_exporter": "python",
   "pygments_lexer": "ipython3",
   "version": "3.10.4"
  }
 },
 "nbformat": 4,
 "nbformat_minor": 4
}
